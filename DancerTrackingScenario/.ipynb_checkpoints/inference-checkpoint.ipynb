{
 "cells": [
  {
   "cell_type": "code",
   "execution_count": 1,
   "metadata": {},
   "outputs": [
    {
     "name": "stderr",
     "output_type": "stream",
     "text": [
      "2022-11-24 19:57:11.200952: W tensorflow/stream_executor/platform/default/dso_loader.cc:64] Could not load dynamic library 'libcudart.so.11.0'; dlerror: libcudart.so.11.0: cannot open shared object file: No such file or directory; LD_LIBRARY_PATH: /home/hyunsookim/.conda/envs/research_env/lib/python3.7/site-packages/cv2/../../lib64:\n",
      "2022-11-24 19:57:11.200986: I tensorflow/stream_executor/cuda/cudart_stub.cc:29] Ignore above cudart dlerror if you do not have a GPU set up on your machine.\n"
     ]
    }
   ],
   "source": [
    "import cv2\n",
    "import os\n",
    "import numpy as np\n",
    "import tensorflow as tf\n",
    "import time\n",
    "import sys\n"
   ]
  },
  {
   "cell_type": "code",
   "execution_count": 55,
   "metadata": {},
   "outputs": [],
   "source": [
    "class Args:\n",
    "    model = 'lite-model_movenet_singlepose_lightning_tflite_int8_4.tflite'\n",
    "    inp = 'standing_man.jpg'\n",
    "    output = f\"out_{inp}\"\n",
    "    \n",
    "_NUM_KEYPOINTS = 17"
   ]
  },
  {
   "cell_type": "code",
   "execution_count": 56,
   "metadata": {},
   "outputs": [
    {
     "name": "stdout",
     "output_type": "stream",
     "text": [
      "[[0.11880878 0.47523507 0.700562  ]\n",
      " [0.10242134 0.49981618 0.84395194]\n",
      " [0.10242134 0.4547508  0.5694627 ]\n",
      " [0.11880878 0.53668785 0.5694627 ]\n",
      " [0.12290561 0.43016967 0.6350124 ]\n",
      " [0.22942382 0.5981407  0.6350124 ]\n",
      " [0.24581125 0.36052316 0.700562  ]\n",
      " [0.36871687 0.6677872  0.8029834 ]\n",
      " [0.38100743 0.28677976 0.700562  ]\n",
      " [0.42197597 0.6473029  0.36462   ]\n",
      " [0.4342665  0.32774833 0.5694627 ]\n",
      " [0.5121068  0.56536585 0.75382113]\n",
      " [0.49981618 0.39329797 0.700562  ]\n",
      " [0.700562   0.5571721  0.75382113]\n",
      " [0.70875573 0.38920113 0.75382113]\n",
      " [0.897211   0.5571721  0.700562  ]\n",
      " [0.90540475 0.39329797 0.925889  ]]\n",
      "338 507\n",
      "Done. Results saved at out_standing_man.jpg\n"
     ]
    }
   ],
   "source": [
    "args = Args()\n",
    "\n",
    "interpreter = tf.lite.Interpreter(args.model)\n",
    "interpreter.allocate_tensors()\n",
    "_, h, w, _ = interpreter.get_input_details()[0]['shape']\n",
    "\n",
    "orig_img = cv2.imread(args.inp)\n",
    "img = cv2.resize(orig_img, (w, h))\n",
    "img = np.reshape(np.array(img), (1, w, h, 3))\n",
    "# img = np.float32(img)\n",
    "\n",
    "\n",
    "input_details = interpreter.get_input_details()\n",
    "output_details = interpreter.get_output_details()\n",
    "# print(input_details)\n",
    "# print(\"-\"*8)\n",
    "# print(output_details)\n",
    "\n",
    "interpreter.set_tensor(input_details[0]['index'], img)\n",
    "\n",
    "# run model\n",
    "interpreter.invoke()\n",
    "\n",
    "outputs = interpreter.get_tensor(output_details[0]['index'])\n",
    "\n",
    "pose = outputs[0, 0]\n",
    "print(pose)\n",
    "orig_h, orig_w, _ = orig_img.shape\n",
    "print(orig_w, orig_h)\n",
    "for i in range(0, _NUM_KEYPOINTS):\n",
    "    \n",
    "    cv2.circle(orig_img, (int( pose[i][1] * orig_w),\n",
    "                         int(pose[i][0] * orig_h)), 1, (255, 255, 0), 5)\n",
    "#     draw.ellipse(\n",
    "#         xy=[\n",
    "#             pose[i][1] * width - 2, pose[i][0] * height - 2,\n",
    "#             pose[i][1] * width + 2, pose[i][0] * height + 2\n",
    "#         ],\n",
    "#         fill=(255, 0, 0))\n",
    "cv2.imwrite(args.output, orig_img)\n",
    "\n",
    "print('Done. Results saved at', args.output)\n",
    "\n"
   ]
  },
  {
   "cell_type": "code",
   "execution_count": null,
   "metadata": {},
   "outputs": [],
   "source": []
  }
 ],
 "metadata": {
  "kernelspec": {
   "display_name": "research_env",
   "language": "python",
   "name": "research_env"
  },
  "language_info": {
   "codemirror_mode": {
    "name": "ipython",
    "version": 3
   },
   "file_extension": ".py",
   "mimetype": "text/x-python",
   "name": "python",
   "nbconvert_exporter": "python",
   "pygments_lexer": "ipython3",
   "version": "3.7.13"
  }
 },
 "nbformat": 4,
 "nbformat_minor": 4
}
