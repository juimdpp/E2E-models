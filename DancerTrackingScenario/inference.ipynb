{
 "cells": [
  {
   "cell_type": "code",
   "execution_count": 1,
   "metadata": {},
   "outputs": [
    {
     "name": "stderr",
     "output_type": "stream",
     "text": [
      "2022-11-24 19:57:11.200952: W tensorflow/stream_executor/platform/default/dso_loader.cc:64] Could not load dynamic library 'libcudart.so.11.0'; dlerror: libcudart.so.11.0: cannot open shared object file: No such file or directory; LD_LIBRARY_PATH: /home/hyunsookim/.conda/envs/research_env/lib/python3.7/site-packages/cv2/../../lib64:\n",
      "2022-11-24 19:57:11.200986: I tensorflow/stream_executor/cuda/cudart_stub.cc:29] Ignore above cudart dlerror if you do not have a GPU set up on your machine.\n"
     ]
    }
   ],
   "source": [
    "import cv2\n",
    "import os\n",
    "import numpy as np\n",
    "import tensorflow as tf\n",
    "import time\n",
    "import sys\n"
   ]
  },
  {
   "cell_type": "code",
   "execution_count": 66,
   "metadata": {},
   "outputs": [],
   "source": [
    "class Args:\n",
    "    model = 'lite-model_movenet_singlepose_lightning_tflite_int8_4.tflite'\n",
    "    inp = 'standing_man.jpg'\n",
    "    inp = '../woman_1.jpg'\n",
    "    output = f\"out_{inp}\"\n",
    "    output = \"output.jpg\"\n",
    "    \n",
    "_NUM_KEYPOINTS = 17"
   ]
  },
  {
   "cell_type": "code",
   "execution_count": 68,
   "metadata": {},
   "outputs": [
    {
     "name": "stdout",
     "output_type": "stream",
     "text": [
      "192 192\n",
      "[[0.4096854  0.78659594 0.49981618]\n",
      " [0.39739484 0.80708027 0.49981618]\n",
      " [0.39329797 0.8029834  0.6350124 ]\n",
      " [0.3851043  0.77020854 0.24581125]\n",
      " [0.36462    0.77020854 0.49981618]\n",
      " [0.42607284 0.72924    0.43016967]\n",
      " [0.4014917  0.68827146 0.6350124 ]\n",
      " [0.50391304 0.6186249  0.24581125]\n",
      " [0.49981618 0.6022375  0.36462   ]\n",
      " [0.5776564  0.6309155  0.6350124 ]\n",
      " [0.5858501  0.61043125 0.29907036]\n",
      " [0.54897845 0.53259104 0.49981618]\n",
      " [0.5243973  0.5080099  0.6350124 ]\n",
      " [0.65549666 0.5735596  0.49981618]\n",
      " [0.68417466 0.4342665  0.5694627 ]\n",
      " [0.84395194 0.53259104 0.49981618]\n",
      " [0.70875573 0.22942382 0.36462   ]]\n",
      "511 720\n",
      "Done. Results saved at output.jpg\n"
     ]
    }
   ],
   "source": [
    "args = Args()\n",
    "\n",
    "interpreter = tf.lite.Interpreter(args.model)\n",
    "interpreter.allocate_tensors()\n",
    "_, h, w, _ = interpreter.get_input_details()[0]['shape']\n",
    "print(h, w)\n",
    "orig_img = cv2.imread(args.inp)\n",
    "img = cv2.resize(orig_img, (w, h))\n",
    "img = np.reshape(np.array(img), (1, w, h, 3))\n",
    "# img = np.float32(img)\n",
    "\n",
    "\n",
    "input_details = interpreter.get_input_details()\n",
    "output_details = interpreter.get_output_details()\n",
    "# print(input_details)\n",
    "# print(\"-\"*8)\n",
    "# print(output_details)\n",
    "\n",
    "interpreter.set_tensor(input_details[0]['index'], img)\n",
    "\n",
    "# run model\n",
    "interpreter.invoke()\n",
    "\n",
    "outputs = interpreter.get_tensor(output_details[0]['index'])\n",
    "\n",
    "pose = outputs[0, 0]\n",
    "print(pose)\n",
    "orig_h, orig_w, _ = orig_img.shape\n",
    "print(orig_w, orig_h)\n",
    "for i in range(0, _NUM_KEYPOINTS):\n",
    "    \n",
    "    cv2.circle(orig_img, (int( pose[i][1] * orig_w),\n",
    "                         int(pose[i][0] * orig_h)), 1, (255, 255, 0), 5)\n",
    "#     draw.ellipse(\n",
    "#         xy=[\n",
    "#             pose[i][1] * width - 2, pose[i][0] * height - 2,\n",
    "#             pose[i][1] * width + 2, pose[i][0] * height + 2\n",
    "#         ],\n",
    "#         fill=(255, 0, 0))\n",
    "cv2.imwrite(args.output, orig_img)\n",
    "\n",
    "print('Done. Results saved at', args.output)\n",
    "\n"
   ]
  },
  {
   "cell_type": "code",
   "execution_count": null,
   "metadata": {},
   "outputs": [],
   "source": []
  }
 ],
 "metadata": {
  "kernelspec": {
   "display_name": "research_env",
   "language": "python",
   "name": "research_env"
  },
  "language_info": {
   "codemirror_mode": {
    "name": "ipython",
    "version": 3
   },
   "file_extension": ".py",
   "mimetype": "text/x-python",
   "name": "python",
   "nbconvert_exporter": "python",
   "pygments_lexer": "ipython3",
   "version": "3.7.13"
  }
 },
 "nbformat": 4,
 "nbformat_minor": 4
}
